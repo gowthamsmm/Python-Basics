{
  "nbformat": 4,
  "nbformat_minor": 0,
  "metadata": {
    "colab": {
      "provenance": []
    },
    "kernelspec": {
      "name": "python3",
      "display_name": "Python 3"
    },
    "language_info": {
      "name": "python"
    }
  },
  "cells": [
    {
      "cell_type": "markdown",
      "source": [
        "# Python Basics Questions\n"
      ],
      "metadata": {
        "id": "XoQu11NdOBEc"
      }
    },
    {
      "cell_type": "code",
      "execution_count": null,
      "metadata": {
        "id": "9iIhKY6IM_sr"
      },
      "outputs": [],
      "source": []
    },
    {
      "cell_type": "markdown",
      "source": [
        "1. What is Python, and why is it popular?\n",
        "   *   Python is a coding language that’s super easy to understand and use, almost like writing a to-do list. People love it because it’s great for beginners, can do all kinds of jobs—like creating games, crunching numbers, or automating tasks—and comes with lots of shortcuts (libraries) to make work faster. It’s also widely used, so there’s a big community to support you.\n",
        "\n",
        "2. What is an interpreter in Python?\n",
        "   *  An interpreter in Python is like a helper that takes your code and follows it line by line, making the computer do what you want as it goes. Unlike some languages that need the whole program finished before running, Python’s interpreter starts working immediately, so you can try things out fast and fix mistakes on the spot.\n",
        "\n",
        "3. What are pre-defined keywords in Python?\n",
        "   * Pre-defined keywords in Python are words that come built into the language and have fixed roles. Think of them as special commands Python already knows, like while (to repeat something), class (to make objects), or return (to give back a result). You can’t change their meaning or use them as names for other things—they’re locked for Python’s use to keep coding smooth and simple.\n",
        "\n",
        "4. Can keywords be used as variable names?\n",
        "   * Generally, you can’t use keywords (such as while, class, or return) as variable names in most programming languages because they’re set aside for special purposes, and doing so will trigger errors. A few languages might let it slide in certain situations (like JavaScript in non-strict mode), but it’s poor practice and should be dodged to keep code clear.\n",
        "\n",
        "5. What is mutability in Python?\n",
        "   * In Python, mutability describes if an object can be edited after being created. Mutable types, such as lists or sets, allow direct changes to their contents. Immutable types, like integers or strings, don’t—any alteration results in a new object being formed.\n",
        "\n",
        "6. Why are lists mutable, but tuples are immutable?\n",
        "   * Lists in Python can be altered because they’re built for adaptability, letting you modify, add, or delete elements—like an editable task list—thanks to their dynamic array structure. Tuples, however, stay fixed since they’re intended as stable, unchangeable units, such as a locked set of values, making them hashable for keys and faster to use. Their roles drive this: lists flex, tuples stand firm.\n",
        "\n",
        "7. What is the difference between “==” and “is” operators in Python?\n",
        "   * In Python, == checks if two things have the same value, like 5 == 5. is checks if they’re the same exact object in memory, like two names for the same box. So, == is about “what,” and is is about “who.”\n",
        "\n",
        "8. What are logical operators in Python?\n",
        "   * Logical operators in Python are used to combine or modify conditions, typically in if statements or loops, and they work with boolean values (True or False). There are three main ones:\n",
        "\n",
        "    * and is true if both sides are true.\n",
        "    * or is true if at least one side is true.\n",
        "    * not flips true to false or false to true. They help combine or change conditions, like in if statements.\n",
        "\n",
        "9. What is type casting in Python?\n",
        "   * Type casting in Python means changing a value’s data type, like making an integer from a string or a string from a number. You use functions like:\n",
        "\n",
        "    * int(): Turns \"3\" into 3 or 4.9 into 4 (drops the decimal).\n",
        "    * float(): Makes \"2.5\" into 2.5 or 7 into 7.0.\n",
        "    * str(): Changes 10 into \"10\".\n",
        "    * Others like list() or tuple() for sequences.\n",
        "\n",
        "10. What is the difference between implicit and explicit type casting?\n",
        "    * In Python:\n",
        "\n",
        "     * Implicit Type Casting: Python switches the type by itself, like turning 5 into 5.0 in 5 + 1.2 to get 6.2. It happens without you asking.\n",
        "     * Explicit Type Casting: You make the change using int(), float(), or similar, like float(\"3\") + 1 to get 4.0. You control it, but it can fail if it doesn’t make sense.\n",
        "     * Implicit is Python doing it quietly; explicit is you picking the type.\n",
        "\n",
        "11. What is the purpose of conditional statements in Python?\n",
        "    * The purpose of conditional statements in Python, such as `if`, `elif`, and `else`, is to let your program choose what to do based on conditions being true or false. They guide the code’s path, running specific parts only when certain rules are met—like showing “Welcome” if a user’s logged in, or “Try again” if not. They make programs smart and flexible, reacting to inputs or values instead of just following a fixed sequence.\n",
        "\n",
        "12.  How does the elif statement work?\n",
        "     * The elif statement in Python, meaning \"else if,\" comes after an if and checks another condition if the if is false. It’s like a backup test: Python tries the if first, and if that doesn’t work, it moves to elif. If the elif condition is true, its code runs, and the rest is skipped. You can stack multiple elif statements to test more options in order, and Python picks the first true one. If none fit, it falls to else (if there is one).\n",
        "\n",
        "13. What is the difference between for and while loops?\n",
        "    * In Python, for and while loops both run code multiple times, but here’s how they differ:\n",
        "\n",
        "     * for Loop: Goes through a specific set of items (like a list or numbers) a fixed number of times. It’s perfect when you know the end point, like for x in [1, 2, 3]: which runs exactly 3 times. It manages the loop for you.\n",
        "     * while Loop: Keeps running as long as a condition holds true, like while count < 10:. It’s useful when the number of repeats isn’t set—you stop it by changing the condition. It needs careful handling to avoid endless loops.\n",
        "\n",
        "      So, for is about looping over a known group; while depends on a test that could change anytime.\n",
        "\n",
        "14. Describe a scenario where a while loop is more suitable than a for loop.\n",
        "    * A while loop is better than a for loop when you need to keep doing something until a random or unpredictable condition is met, not when you’re counting a set number of steps.\n",
        "\n",
        "     Imagine rolling a die until you get a 6. You don’t know how many rolls it’ll take—it could be 1 roll or 20. A for loop, like rolling exactly 5 times, doesn’t make sense because you might stop before getting a 6 or keep going after you already have it. A while loop fits perfectly:\n",
        "\n",
        "     while (dieRoll != 6) {\n",
        "    rollDie();\n",
        "}\n",
        "\n",
        "     It keeps rolling until you hit that 6, no matter how long it takes. A while loop is all about waiting for the right moment, not repeating a fixed number of times like a for loop.\n",
        "\n",
        "\n",
        "\n",
        "   "
      ],
      "metadata": {
        "id": "exXcir4POjxt"
      }
    },
    {
      "cell_type": "markdown",
      "source": [
        "# Practical Questions"
      ],
      "metadata": {
        "id": "3__Tg4dOPiHU"
      }
    },
    {
      "cell_type": "code",
      "source": [
        "# 1. Write a Python program to print \"Hello, World!\n",
        "print(\"Hello, World!\") # Removed extra space before print"
      ],
      "metadata": {
        "colab": {
          "base_uri": "https://localhost:8080/"
        },
        "collapsed": true,
        "id": "tUE3RsVFhlOh",
        "outputId": "e3e32546-e5cf-4a94-f102-ab6cb46baf00"
      },
      "execution_count": null,
      "outputs": [
        {
          "output_type": "stream",
          "name": "stdout",
          "text": [
            "Hello, World!\n"
          ]
        }
      ]
    },
    {
      "cell_type": "code",
      "source": [
        "# 2. Write a Python program that displays your name and age.\n",
        "# Program to display name and age\n",
        "name = \"Gowtham\"\n",
        "age = 24\n",
        "\n",
        "print(f\"My name is {name} and I am {age} years old.\")"
      ],
      "metadata": {
        "colab": {
          "base_uri": "https://localhost:8080/"
        },
        "collapsed": true,
        "id": "jwBpEFsFlw09",
        "outputId": "615eab3d-b97f-4911-90ea-25895d1bf13f"
      },
      "execution_count": null,
      "outputs": [
        {
          "output_type": "stream",
          "name": "stdout",
          "text": [
            "My name is Gowtham and I am 24 years old.\n"
          ]
        }
      ]
    },
    {
      "cell_type": "code",
      "source": [
        "# 3.  Write code to print all the pre-defined keywords in Python using the keyword library.\n",
        "# Import the keyword module\n",
        "import keyword\n",
        "\n",
        "# Get the list of all Python keywords\n",
        "keywords = keyword.kwlist\n",
        "\n",
        "# Print the keywords\n",
        "print(\"List of all Python keywords:\")\n",
        "for kw in keywords:\n",
        "    print(kw)\n"
      ],
      "metadata": {
        "colab": {
          "base_uri": "https://localhost:8080/"
        },
        "collapsed": true,
        "id": "uUxVWA6ZmYCq",
        "outputId": "d12d7250-2147-4a43-8e0c-98641ed66c24"
      },
      "execution_count": null,
      "outputs": [
        {
          "output_type": "stream",
          "name": "stdout",
          "text": [
            "List of all Python keywords:\n",
            "False\n",
            "None\n",
            "True\n",
            "and\n",
            "as\n",
            "assert\n",
            "async\n",
            "await\n",
            "break\n",
            "class\n",
            "continue\n",
            "def\n",
            "del\n",
            "elif\n",
            "else\n",
            "except\n",
            "finally\n",
            "for\n",
            "from\n",
            "global\n",
            "if\n",
            "import\n",
            "in\n",
            "is\n",
            "lambda\n",
            "nonlocal\n",
            "not\n",
            "or\n",
            "pass\n",
            "raise\n",
            "return\n",
            "try\n",
            "while\n",
            "with\n",
            "yield\n"
          ]
        }
      ]
    },
    {
      "cell_type": "code",
      "source": [
        "# 4.  Write a program that checks if a given word is a Python keyword.\n",
        "import keyword\n",
        "\n",
        "def check_keyword(word):\n",
        "    return word in keyword.kwlist\n",
        "\n",
        "word = input(\"Enter a word: \")\n",
        "if check_keyword(word):\n",
        "    print(\"Yes, it's a keyword\")\n",
        "else:\n",
        "    print(\"No, it's not a keyword\")"
      ],
      "metadata": {
        "colab": {
          "base_uri": "https://localhost:8080/"
        },
        "collapsed": true,
        "id": "puKq6hmynahO",
        "outputId": "c338b362-8f4e-4780-d40c-e1eeff17a1fa"
      },
      "execution_count": null,
      "outputs": [
        {
          "output_type": "stream",
          "name": "stdout",
          "text": [
            "Enter a word: None\n",
            "Yes, it's a keyword\n"
          ]
        }
      ]
    },
    {
      "cell_type": "code",
      "source": [
        "# 5. Create a list and tuple in Python, and demonstrate how attempting to change an element works differently for each.\n",
        "# Create list and tuple\n",
        "my_list = [1, 2, 3]\n",
        "my_tuple = (1, 2, 3)\n",
        "\n",
        "# Try changing list\n",
        "my_list[0] = 99\n",
        "print(\"List after change:\", my_list)\n",
        "\n",
        "# Try changing tuple\n",
        "try:\n",
        "    my_tuple[0] = 99\n",
        "except:\n",
        "    print(\"Tuple can't be changed:\", my_tuple)\n"
      ],
      "metadata": {
        "colab": {
          "base_uri": "https://localhost:8080/"
        },
        "collapsed": true,
        "id": "8uLN3x5Conyt",
        "outputId": "734fb532-1cd2-41cb-ceae-38617d20f982"
      },
      "execution_count": null,
      "outputs": [
        {
          "output_type": "stream",
          "name": "stdout",
          "text": [
            "List after change: [99, 2, 3]\n",
            "Tuple can't be changed: (1, 2, 3)\n"
          ]
        }
      ]
    },
    {
      "cell_type": "code",
      "source": [
        "# 6.  Write a function to demonstrate the behavior of mutable and immutable arguments.\n",
        "def modify(st, lst):\n",
        "    st = \"new\"        # immutable (string)\n",
        "    lst[0] = 99       # mutable (list)\n",
        "    print(\"Inside - string:\", st, \"list:\", lst)\n",
        "\n",
        "# Test\n",
        "my_string = \"old\"\n",
        "my_list = [1, 2]\n",
        "\n",
        "print(\"Before:\", my_string, my_list)\n",
        "modify(my_string, my_list)\n",
        "print(\"After:\", my_string, my_list)"
      ],
      "metadata": {
        "colab": {
          "base_uri": "https://localhost:8080/"
        },
        "collapsed": true,
        "id": "BtGjJKYSpfVh",
        "outputId": "8e13ed0d-0eff-4143-a43e-f017f39284fb"
      },
      "execution_count": null,
      "outputs": [
        {
          "output_type": "stream",
          "name": "stdout",
          "text": [
            "Before: old [1, 2]\n",
            "Inside - string: new list: [99, 2]\n",
            "After: old [99, 2]\n"
          ]
        }
      ]
    },
    {
      "cell_type": "code",
      "source": [
        "# 7.  Write a function to demonstrate the behavior of mutable and immutable arguments.\n",
        "def alter_vals(tup, st):\n",
        "    tup = (7, 8)      # immutable (tuple)\n",
        "    st.add(9)         # mutable (set)\n",
        "    print(\"Inside - tuple:\", tup, \"set:\", st)\n",
        "\n",
        "# Test\n",
        "my_tuple = (1, 2)\n",
        "my_set = {3, 4, 5}\n",
        "\n",
        "print(\"Before:\", my_tuple, my_set)\n",
        "alter_vals(my_tuple, my_set)\n",
        "print(\"After:\", my_tuple, my_set)"
      ],
      "metadata": {
        "colab": {
          "base_uri": "https://localhost:8080/"
        },
        "collapsed": true,
        "id": "UMjrKGKTqi-m",
        "outputId": "22070329-f874-421b-e755-b959f4a76e7f"
      },
      "execution_count": null,
      "outputs": [
        {
          "output_type": "stream",
          "name": "stdout",
          "text": [
            "Before: (1, 2) {3, 4, 5}\n",
            "Inside - tuple: (7, 8) set: {9, 3, 4, 5}\n",
            "After: (1, 2) {9, 3, 4, 5}\n"
          ]
        }
      ]
    },
    {
      "cell_type": "code",
      "source": [
        "# 8. Write a program to demonstrate the use of logical operators.\n",
        "x = 10\n",
        "y = 5\n",
        "\n",
        "# Using and, or, not\n",
        "result1 = x > 0 and y < 10\n",
        "result2 = x < 5 or y > 3\n",
        "result3 = not x == y\n",
        "\n",
        "print(\"x > 0 and y < 10:\", result1)\n",
        "print(\"x < 5 or y > 3:\", result2)\n",
        "print(\"not x == y:\", result3)"
      ],
      "metadata": {
        "colab": {
          "base_uri": "https://localhost:8080/"
        },
        "collapsed": true,
        "id": "GJV9xtfdrBKS",
        "outputId": "86eb14e7-bb17-4787-df70-e98d1ab861f3"
      },
      "execution_count": null,
      "outputs": [
        {
          "output_type": "stream",
          "name": "stdout",
          "text": [
            "x > 0 and y < 10: True\n",
            "x < 5 or y > 3: True\n",
            "not x == y: True\n"
          ]
        }
      ]
    },
    {
      "cell_type": "code",
      "source": [
        "# 9. Write a Python program to convert user input from string to integer, float, and boolean types.\n",
        "# Simple inputs\n",
        "int_input = \"10\"\n",
        "float_input = \"5.5\"\n",
        "bool_input = \"True\"\n",
        "\n",
        "# Convert types\n",
        "my_int = int(int_input)\n",
        "my_float = float(float_input)\n",
        "my_bool = bool(bool_input)\n",
        "\n",
        "# Print results\n",
        "print(\"String '10' to int:\", my_int)\n",
        "print(\"String '5.5' to float:\", my_float)\n",
        "print(\"String 'True' to bool:\", my_bool)"
      ],
      "metadata": {
        "colab": {
          "base_uri": "https://localhost:8080/"
        },
        "collapsed": true,
        "id": "CP7Yviq7rj7C",
        "outputId": "a9e44273-4dc2-41b8-919b-950cc58a2d26"
      },
      "execution_count": null,
      "outputs": [
        {
          "output_type": "stream",
          "name": "stdout",
          "text": [
            "String '10' to int: 10\n",
            "String '5.5' to float: 5.5\n",
            "String 'True' to bool: True\n"
          ]
        }
      ]
    },
    {
      "cell_type": "code",
      "source": [
        "# 10. Write code to demonstrate type casting with list elements.\n",
        "# Simple list with string elements\n",
        "my_list = [\"5\", \"2.3\", \"yes\"]\n",
        "\n",
        "# Cast to different types\n",
        "num1 = int(my_list[0])      # \"5\" to integer\n",
        "num2 = float(my_list[1])    # \"2.3\" to float\n",
        "truth = bool(my_list[2])    # \"yes\" to boolean\n",
        "\n",
        "# Print results\n",
        "print(\"List:\", my_list)\n",
        "print(\"'5' to int:\", num1)\n",
        "print(\"'2.3' to float:\", num2)\n",
        "print(\"'yes' to bool:\", truth)"
      ],
      "metadata": {
        "colab": {
          "base_uri": "https://localhost:8080/"
        },
        "collapsed": true,
        "id": "Gv4chTFFr6y9",
        "outputId": "39afd02c-af73-4dd9-f959-e2ba6109764a"
      },
      "execution_count": null,
      "outputs": [
        {
          "output_type": "stream",
          "name": "stdout",
          "text": [
            "List: ['5', '2.3', 'yes']\n",
            "'5' to int: 5\n",
            "'2.3' to float: 2.3\n",
            "'yes' to bool: True\n"
          ]
        }
      ]
    },
    {
      "cell_type": "code",
      "source": [
        "# 11. Write a program that checks if a number is positive, negative, or zero.\n",
        "# Get number from user\n",
        "number = float(input(\"Enter a number: \"))\n",
        "\n",
        "# Check conditions\n",
        "if number > 0:\n",
        "    print(\"The number is positive\")\n",
        "elif number < 0:\n",
        "    print(\"The number is negative\")\n",
        "else:\n",
        "    print(\"The number is zero\")\n",
        "\n"
      ],
      "metadata": {
        "colab": {
          "base_uri": "https://localhost:8080/"
        },
        "collapsed": true,
        "id": "JWGfu0wDsUSQ",
        "outputId": "eb082b65-a070-4a4b-b06c-927b0e76914a"
      },
      "execution_count": null,
      "outputs": [
        {
          "output_type": "stream",
          "name": "stdout",
          "text": [
            "Enter a number: 23\n",
            "The number is positive\n"
          ]
        }
      ]
    },
    {
      "cell_type": "code",
      "source": [
        "# 12. Write a for loop to print numbers from 1 to 10.\n",
        "for num in range(1, 11):\n",
        "    print(num)"
      ],
      "metadata": {
        "colab": {
          "base_uri": "https://localhost:8080/"
        },
        "collapsed": true,
        "id": "AGMfgff5siRc",
        "outputId": "69155e30-01ed-4375-bade-af3cdf2b8365"
      },
      "execution_count": null,
      "outputs": [
        {
          "output_type": "stream",
          "name": "stdout",
          "text": [
            "1\n",
            "2\n",
            "3\n",
            "4\n",
            "5\n",
            "6\n",
            "7\n",
            "8\n",
            "9\n",
            "10\n"
          ]
        }
      ]
    },
    {
      "cell_type": "code",
      "source": [
        "# 13. Write a Python program to find the sum of all even numbers between 1 and 50.\n",
        "sum_even = 0\n",
        "num = 2\n",
        "\n",
        "while num <= 50:\n",
        "    sum_even += num\n",
        "    num += 2\n",
        "\n",
        "print(\"Sum:\", sum_even)"
      ],
      "metadata": {
        "colab": {
          "base_uri": "https://localhost:8080/"
        },
        "collapsed": true,
        "id": "lWIniqvDs_GF",
        "outputId": "e794d637-3817-4a4e-d269-3a56ab3387b6"
      },
      "execution_count": null,
      "outputs": [
        {
          "output_type": "stream",
          "name": "stdout",
          "text": [
            "Sum: 650\n"
          ]
        }
      ]
    },
    {
      "cell_type": "code",
      "source": [
        "# 14. Write a program to reverse a string using a while loop.\n",
        "text = \"cat\"\n",
        "rev = \"\"\n",
        "i = len(text) - 1\n",
        "\n",
        "while i >= 0:\n",
        "    rev += text[i]\n",
        "    i -= 1\n",
        "\n",
        "print(rev)"
      ],
      "metadata": {
        "colab": {
          "base_uri": "https://localhost:8080/"
        },
        "collapsed": true,
        "id": "UQfHUZ6gth9e",
        "outputId": "60ce9394-acf9-43df-aa17-126a6cc497c6"
      },
      "execution_count": null,
      "outputs": [
        {
          "output_type": "stream",
          "name": "stdout",
          "text": [
            "tac\n"
          ]
        }
      ]
    },
    {
      "cell_type": "code",
      "source": [
        "# 15. Write a Python program to calculate the factorial of a number provided by the user using a while loop.\n",
        "num = int(input(\"Enter number: \"))\n",
        "fact = 1\n",
        "\n",
        "while num > 0:\n",
        "    fact *= num\n",
        "    num -= 1\n",
        "\n",
        "print(\"Factorial:\", fact)\n",
        "\n",
        "\n"
      ],
      "metadata": {
        "colab": {
          "base_uri": "https://localhost:8080/"
        },
        "collapsed": true,
        "id": "Q9zUbLOtuBAU",
        "outputId": "7f2ff326-1027-418a-9fc8-ffe4fdae5a26"
      },
      "execution_count": null,
      "outputs": [
        {
          "output_type": "stream",
          "name": "stdout",
          "text": [
            "Enter number: 4\n",
            "Factorial: 24\n"
          ]
        }
      ]
    }
  ]
}